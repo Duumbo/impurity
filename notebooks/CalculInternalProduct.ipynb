{
 "cells": [
  {
   "cell_type": "markdown",
   "id": "74cb71df-5fb2-4e2c-ba10-38cff6fc25b8",
   "metadata": {},
   "source": [
    "# Calcul du Internal Product\n",
    "Le but de ce carnet jupyter est de faire le calcul du produit scalaire\n",
    "$$\n",
    "\\braket{x|\\psi}\n",
    "$$\n",
    "\n",
    "avec\n",
    "$$\n",
    "\\ket{\\psi}=P_{\\text{G}}P_{\\text{J}}\\ket{\\phi_\\text{Pfaff}},\n",
    "$$\n",
    "afin de pouvoir calculer la probabilité d'une update. Ce carnet va aussi contenir des exemples d'utilisation des _fast-updates_.\n",
    "\n",
    "Pour rouler le code présent dans ce carnet, il faut avoir compilé la librairie avec la _feature_ `python-interface`, puis avoir exposé l'interface à l'environnement python à l'aide de `maturin`. Le script `build.sh` présent dans\n",
    "ce répertoire permet la création d'un environnement virtuel et l'installation de la librairie `impurity`."
   ]
  },
  {
   "cell_type": "code",
   "execution_count": 11,
   "id": "52ef5c31-d1e4-4ab8-9543-fd1730517ee6",
   "metadata": {},
   "outputs": [],
   "source": [
    "import impurity as imp\n",
    "NSITES = 8\n",
    "spin_up = 101\n",
    "spin_down = 164\n",
    "new_spin_up = 165"
   ]
  },
  {
   "cell_type": "markdown",
   "id": "f5fbdca1-82a4-40ac-bbad-2d481549c8a2",
   "metadata": {},
   "source": [
    "## Mise en situation\n",
    "Pour l'entièreté de ce carnet, le problème qui sera considéré sera une chaine de $8$ spins ayant une connectivité périodique. L'état qui sera considéré sera une configuration $s_{\\uparrow}=[01100101]=101$ pour les spins _up_ ainsi qu'une configuration $s_{\\downarrow}=[10100100]=164$ pour les spins _down_.\n",
    "\n",
    "Ajouter une figure\n",
    "\n",
    "Pour les fast-updates, le _hopping_ sera de spin up et passera de l'indice $1$ à l'indice $0$. La nouvelle configuration _up_ sera donc $s_{\\uparrow}=[10100101]=165$.\n",
    "\n",
    "Ajouter une figure"
   ]
  },
  {
   "cell_type": "markdown",
   "id": "ce1b0eeb-c95b-41e6-b17a-25ab2bafd700",
   "metadata": {},
   "source": [
    "## Calcul du Projecteur Gutzwiller $P_{\\text{G}}$\n",
    "On utilise la définition du projecteur de Gutzwiller\n",
    "\n",
    "$$\n",
    "P_{\\text{G}}=e^{\\sum_i g_in_{i\\uparrow}n_{i\\downarrow}},\n",
    "$$\n",
    "ou sous sa forme plus commode numériquement\n",
    "$$\n",
    "\\ln P_{\\text{G}}=\\sum_i g_i n_{i\\uparrow}n_{i\\downarrow}.\n",
    "$$\n",
    "La somme sur $i$ représente la somme sur l'entièreté des sites. Les $g_i$ sont les paramètres variationnels du projecteur. Nous fixons ces paramètres aux valeurs:\n",
    "\n",
    "$$\n",
    "\\mathbf{g}=\\begin{pmatrix}\n",
    "-0.23 &-0.59 & -0.58 & -0.8 & -0.57 & -0.47 & 0.4 & -0.62\n",
    "\\end{pmatrix}\n",
    "$$\n",
    "\n",
    "### Calcul explicite\n",
    "Les seuls termes de la somme qui contribuent sont ceux pour lesquels le site contient un spin _up_ et un spin _down_, donc équivalent au produit matriciel suivant. Les indices à l'intérieur du vecteur colonne sont donnés par l'opération\n",
    "_et bitwise_ entre $s_\\uparrow$ et $s_\\downarrow$, $\\zeta=s_\\uparrow\\&s_\\downarrow$.\n",
    "\n",
    "$$\n",
    "\\begin{align}\n",
    "\\sum_i g_i n_{i\\uparrow}n_{i\\downarrow}&=\\begin{pmatrix}\n",
    "-0.23 &-0.59 & -0.58 & -0.8 & -0.57 & -0.47 & 0.4 & -0.62\n",
    "\\end{pmatrix}\n",
    "\\begin{pmatrix}\n",
    "0 \\\\ 0 \\\\ 1 \\\\ 0 \\\\ 0 \\\\ 1 \\\\ 0 \\\\ 0\n",
    "\\end{pmatrix}\\\\\n",
    "&=-0.58 - 0.47=-1.05\n",
    "\\end{align}\n",
    "$$\n",
    "\n",
    "Pour après le _hopping_, les termes qui contribuent change, soit\n",
    "\n",
    "$$\n",
    "\\begin{align}\n",
    "\\sum_i g_i n_{i\\uparrow}n_{i\\downarrow}&=\\begin{pmatrix}\n",
    "-0.23 &-0.59 & -0.58 & -0.8 & -0.57 & -0.47 & 0.4 & -0.62\n",
    "\\end{pmatrix}\n",
    "\\begin{pmatrix}\n",
    "1 \\\\ 0 \\\\ 1 \\\\ 0 \\\\ 0 \\\\ 1 \\\\ 0 \\\\ 0\n",
    "\\end{pmatrix}\\\\\n",
    "&=-0.23-0.58 - 0.47=-1.28\n",
    "\\end{align}\n",
    "$$"
   ]
  },
  {
   "cell_type": "markdown",
   "id": "b108f533-cf0a-458a-9c84-d67dcb297211",
   "metadata": {},
   "source": [
    "### Calcul numérique"
   ]
  },
  {
   "cell_type": "code",
   "execution_count": 2,
   "id": "4b6949b0-fe9f-463c-b3dd-e912972b4318",
   "metadata": {},
   "outputs": [
    {
     "name": "stdout",
     "output_type": "stream",
     "text": [
      "-1.0499999999999998\n",
      "-1.2799999999999998\n"
     ]
    }
   ],
   "source": [
    "# Calcul pour la première configuration\n",
    "gutzwiller_parameters = [-0.23, -0.59, -0.58, -0.8, -0.57, -0.47, 0.4, -0.62]\n",
    "gutzwiller_coefficient = imp.gutzwiller_exponent(spin_up, spin_down, gutzwiller_parameters, NSITES)\n",
    "print(gutzwiller_coefficient)\n",
    "\n",
    "# Calcul après le hopping\n",
    "gutzwiller_coefficient = imp.gutzwiller_fastupdate(\n",
    "    gutzwiller_coefficient, gutzwiller_parameters, spin_up, spin_down, 1, 0, True\n",
    ")\n",
    "print(gutzwiller_coefficient)"
   ]
  },
  {
   "cell_type": "markdown",
   "id": "394c32a6-b284-496d-bb97-263484236821",
   "metadata": {},
   "source": [
    "## Calcul du Projecteur Jastrow $P_{\\text{J}}$\n",
    "On utilise la définition du projecteur de Jastrow\n",
    "\n",
    "$$\n",
    "\\begin{align}\n",
    "P_{\\text{J}}&=e^{\\frac12 \\sum_{i\\neq j} v_{ij}(n_i-1)(n_j -1)}\\\\\n",
    "\\ln P_{\\text{J}}&=\\frac12 \\sum_{i\\neq j} v_{ij}(n_i-1)(n_j -1)\n",
    "\\end{align}\n",
    "$$\n",
    "où les $v_{ij}$ sont les paramètres variationnels, tandis que les opérateurs $n_i$ sont les opérateurs nombre d'occupation sans égars au spin.\n",
    "\n",
    "$$\n",
    "\\mathbf{v}=\\begin{pmatrix}\n",
    "0 & -0.7 & 0.28 & -0.42 & 0.31 & 0.63 & -0.33 & 1\\\\\n",
    "-0.75 & 0 & -0.11 & 0.38 & 0.06 & 0.44 & 0.93 & -0.32\\\\\n",
    "-0.49 & -0.67 & 0 & -0.07 & 0.26 & 0.99 & 0 & -0.94\\\\\n",
    "0.46 & -0.59 & 0.84 & 0 & -0.13 & 0.33 & -0.98 & 0.96\\\\\n",
    "0.25 & -0.26 & -0.6 & 0.77 & 0 & -0.92 & 0.65 & -0.58\\\\\n",
    "-0.85 & 0.19 & 0.06 & -0.19 & -0.54 & 0 & 0.01 & -0.3 \\\\\n",
    "0.52 & -0.01 & -0.55 & 0.26 & 0.44 & -0.26 & 0 & 0.08\\\\\n",
    "-0.32 & -0.05 & 0.01 & -0.25 & 0.25 & -0.46 & 0.5 & 0\n",
    "\\end{pmatrix}\n",
    "$$\n",
    "\n",
    "La somme s'écrit comme le produit matriciel suivant, en utilisant le vecteur $\\zeta=s_\\uparrow+s_\\downarrow-\\mathbf{1}$\n",
    "\n",
    "$$\n",
    "\\begin{align}\n",
    "\\frac12 \\sum_{i\\neq j} v_{ij}(n_i-1)(n_j -1)=\\\\\n",
    "\\frac12\\begin{pmatrix}\n",
    "0 & 0 & 1 & -1 & -1 & 1 & -1 & 0\n",
    "\\end{pmatrix}\n",
    "\\begin{pmatrix}\n",
    "0 & -0.7 & 0.28 & -0.42 & 0.31 & 0.63 & -0.33 & 1\\\\\n",
    "-0.75 & 0 & -0.11 & 0.38 & 0.06 & 0.44 & 0.93 & -0.32\\\\\n",
    "-0.49 & -0.67 & 0 & -0.07 & 0.26 & 0.99 & 0 & -0.94\\\\\n",
    "0.46 & -0.59 & 0.84 & 0 & -0.13 & 0.33 & -0.98 & 0.96\\\\\n",
    "0.25 & -0.26 & -0.6 & 0.77 & 0 & -0.92 & 0.65 & -0.58\\\\\n",
    "-0.85 & 0.19 & 0.06 & -0.19 & -0.54 & 0 & 0.01 & -0.3 \\\\\n",
    "0.52 & -0.01 & -0.55 & 0.26 & 0.44 & -0.26 & 0 & 0.08\\\\\n",
    "-0.32 & -0.05 & 0.01 & -0.25 & 0.25 & -0.46 & 0.5 & 0\n",
    "\\end{pmatrix}\n",
    "\\begin{pmatrix}\n",
    "0 \\\\ 0 \\\\ 1 \\\\ -1 \\\\ -1 \\\\ 1 \\\\ -1 \\\\ 0\n",
    "\\end{pmatrix}\\\\\n",
    "=\\frac12\n",
    "\\begin{pmatrix}\n",
    "0 & 0 & 1 & -1 & -1 & 1 & -1 & 0\n",
    "\\end{pmatrix}\n",
    "\\begin{pmatrix}\n",
    "1.35\\\\-1.04\\\\0.8\\\\2.28\\\\-2.94\\\\0.78\\\\-1.51\\\\-0.95\n",
    "\\end{pmatrix}\\\\\n",
    "=1.875\n",
    "\\end{align}\n",
    "$$\n",
    "\n",
    "On peut faire la même chose pour après le hopping, avec $\\zeta=[1,-1,1,-1,-1,1,-1,0]$.\n",
    "$$\n",
    "\\begin{align}\n",
    "\\frac12 \\sum_{i\\neq j} v_{ij}(n_i-1)(n_j -1)=\\\\\n",
    "\\frac12\\begin{pmatrix}\n",
    "1 & -1 & 1 & -1 & -1 & 1 & -1 & 0\n",
    "\\end{pmatrix}\n",
    "\\begin{pmatrix}\n",
    "0 & -0.7 & 0.28 & -0.42 & 0.31 & 0.63 & -0.33 & 1\\\\\n",
    "-0.75 & 0 & -0.11 & 0.38 & 0.06 & 0.44 & 0.93 & -0.32\\\\\n",
    "-0.49 & -0.67 & 0 & -0.07 & 0.26 & 0.99 & 0 & -0.94\\\\\n",
    "0.46 & -0.59 & 0.84 & 0 & -0.13 & 0.33 & -0.98 & 0.96\\\\\n",
    "0.25 & -0.26 & -0.6 & 0.77 & 0 & -0.92 & 0.65 & -0.58\\\\\n",
    "-0.85 & 0.19 & 0.06 & -0.19 & -0.54 & 0 & 0.01 & -0.3 \\\\\n",
    "0.52 & -0.01 & -0.55 & 0.26 & 0.44 & -0.26 & 0 & 0.08\\\\\n",
    "-0.32 & -0.05 & 0.01 & -0.25 & 0.25 & -0.46 & 0.5 & 0\n",
    "\\end{pmatrix}\n",
    "\\begin{pmatrix}\n",
    "1 \\\\ -1 \\\\ 1 \\\\ -1 \\\\ -1 \\\\ 1 \\\\ -1 \\\\ 0\n",
    "\\end{pmatrix}\\\\\n",
    "=\\frac12\n",
    "\\begin{pmatrix}\n",
    "1 & -1 & 1 & -1 & -1 & 1 & -1 & 0\n",
    "\\end{pmatrix}\n",
    "\\begin{pmatrix}\n",
    "2.05\\\\-1.79\\\\0.98\\\\3.33\\\\-2.43\\\\-0.26\\\\-0.98\\\\-1.22\n",
    "\\end{pmatrix}\\\\\n",
    "=2.32\n",
    "\\end{align}\n",
    "$$\n",
    "### Calcul numérique"
   ]
  },
  {
   "cell_type": "code",
   "execution_count": 12,
   "id": "9f10a8e4-fc65-428a-8e88-5b408eb7b161",
   "metadata": {},
   "outputs": [
    {
     "name": "stdout",
     "output_type": "stream",
     "text": [
      "0.92\n",
      "4.01\n"
     ]
    }
   ],
   "source": [
    "jastrow_parameters = [\n",
    "0, -0.7, 0.28, -0.42, 0.31, 0.63, -0.33, 1,\n",
    "-0.75, 0, -0.11, 0.38, 0.06, 0.44, 0.93, -0.32,\n",
    "-0.49, -0.67, 0, -0.07, 0.26, 0.99, 0, -0.94,\n",
    "0.46, -0.59, 0.84, 0, -0.13, 0.33, -0.98, 0.96,\n",
    "0.25, -0.26, -0.6, 0.77, 0, -0.92, 0.65, -0.58,\n",
    "-0.85, 0.19, 0.06, -0.19, -0.54, 0, 0.01, -0.3,\n",
    "0.52, -0.01, -0.55, 0.26, 0.44, -0.26, 0, 0.08,\n",
    "-0.32, -0.05, 0.01, -0.25, 0.25, -0.46, 0.5, 0\n",
    "]\n",
    "jastrow_coef = imp.jastrow_exponent(spin_up, spin_down, jastrow_parameters, NSITES)\n",
    "print(jastrow_coef)\n",
    "\n",
    "jastrow_coef = imp.jastrow_fastupdate(\n",
    "    jastrow_coef,\n",
    "    jastrow_parameters,\n",
    "    spin_up,\n",
    "    spin_down,\n",
    "    new_spin_up,\n",
    "    spin_down,\n",
    "    NSITES,\n",
    "    1,\n",
    "    0\n",
    ")\n",
    "print(jastrow_coef)"
   ]
  },
  {
   "cell_type": "markdown",
   "id": "6bc30d83-252c-4b45-b527-95a69c91a6ea",
   "metadata": {},
   "source": [
    "## Calcul du Produit Scalaire $\\braket{x|\\phi_{\\text{Pfaff}}}$"
   ]
  },
  {
   "cell_type": "markdown",
   "id": "c88c21e9-30a4-4512-88ed-154c9d8498b5",
   "metadata": {},
   "source": [
    "## Calcul de la Densité $\\rho(x)$"
   ]
  },
  {
   "cell_type": "code",
   "execution_count": null,
   "id": "623f73ff-06fb-479e-8ad9-cc0849a6a177",
   "metadata": {},
   "outputs": [],
   "source": []
  }
 ],
 "metadata": {
  "kernelspec": {
   "display_name": "Python 3 (ipykernel)",
   "language": "python",
   "name": "python3"
  },
  "language_info": {
   "codemirror_mode": {
    "name": "ipython",
    "version": 3
   },
   "file_extension": ".py",
   "mimetype": "text/x-python",
   "name": "python",
   "nbconvert_exporter": "python",
   "pygments_lexer": "ipython3",
   "version": "3.11.8"
  }
 },
 "nbformat": 4,
 "nbformat_minor": 5
}
