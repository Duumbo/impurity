{
 "cells": [
  {
   "cell_type": "markdown",
   "id": "74cb71df-5fb2-4e2c-ba10-38cff6fc25b8",
   "metadata": {},
   "source": [
    "# Calcul du Internal Product\n",
    "Le but de ce carnet jupyter est de faire le calcul du produit scalaire\n",
    "$$\n",
    "\\braket{x|\\psi}\n",
    "$$\n",
    "\n",
    "avec\n",
    "$$\n",
    "\\ket{\\psi}=P_{\\text{G}}P_{\\text{J}}\\ket{\\phi_\\text{Pfaff}},\n",
    "$$\n",
    "afin de pouvoir calculer la probabilité d'une update. Ce carnet va aussi contenir des exemples d'utilisation des _fast-updates_.\n",
    "\n",
    "Pour rouler le code présent dans ce carnet, il faut avoir compilé la librairie avec la _feature_ `python-interface`, puis avoir exposé l'interface à l'environnement python à l'aide de `maturin`. Le script `build.sh` présent dans\n",
    "ce répertoire permet la création d'un environnement virtuel et l'installation de la librairie `impurity`."
   ]
  },
  {
   "cell_type": "code",
   "execution_count": 1,
   "id": "52ef5c31-d1e4-4ab8-9543-fd1730517ee6",
   "metadata": {},
   "outputs": [],
   "source": [
    "import impurity as imp\n",
    "NSITES = 8\n",
    "spin_up = 101\n",
    "spin_down = 164\n",
    "new_spin_up = 165"
   ]
  },
  {
   "cell_type": "markdown",
   "id": "f5fbdca1-82a4-40ac-bbad-2d481549c8a2",
   "metadata": {},
   "source": [
    "## Mise en situation\n",
    "Pour l'entièreté de ce carnet, le problème qui sera considéré sera une chaine de $8$ spins ayant une connectivité périodique. L'état qui sera considéré sera une configuration $s_{\\uparrow}=[01100101]=101$ pour les spins _up_ ainsi qu'une configuration $s_{\\downarrow}=[10100100]=164$ pour les spins _down_.\n",
    "\n",
    "Ajouter une figure\n",
    "\n",
    "Pour les fast-updates, le _hopping_ sera de spin up et passera de l'indice $1$ à l'indice $0$. La nouvelle configuration _up_ sera donc $s_{\\uparrow}=[10100101]=165$.\n",
    "\n",
    "Ajouter une figure"
   ]
  },
  {
   "cell_type": "markdown",
   "id": "ce1b0eeb-c95b-41e6-b17a-25ab2bafd700",
   "metadata": {},
   "source": [
    "## Calcul du Projecteur Gutzwiller $P_{\\text{G}}$\n",
    "On utilise la définition du projecteur de Gutzwiller\n",
    "\n",
    "$$\n",
    "P_{\\text{G}}=e^{\\sum_i g_in_{i\\uparrow}n_{i\\downarrow}},\n",
    "$$\n",
    "ou sous sa forme plus commode numériquement\n",
    "$$\n",
    "\\ln P_{\\text{G}}=\\sum_i g_i n_{i\\uparrow}n_{i\\downarrow}.\n",
    "$$\n",
    "La somme sur $i$ représente la somme sur l'entièreté des sites. Les $g_i$ sont les paramètres variationnels du projecteur. Nous fixons ces paramètres aux valeurs:\n",
    "\n",
    "$$\n",
    "\\mathbf{g}=\\begin{pmatrix}\n",
    "-0.23 &-0.59 & -0.58 & -0.8 & -0.57 & -0.47 & 0.4 & -0.62\n",
    "\\end{pmatrix}\n",
    "$$\n",
    "\n",
    "### Calcul explicite\n",
    "Les seuls termes de la somme qui contribuent sont ceux pour lesquels le site contient un spin _up_ et un spin _down_, donc équivalent au produit matriciel suivant. Les indices à l'intérieur du vecteur colonne sont donnés par l'opération\n",
    "_et bitwise_ entre $s_\\uparrow$ et $s_\\downarrow$, $\\zeta=s_\\uparrow\\&s_\\downarrow$.\n",
    "\n",
    "$$\n",
    "\\begin{align}\n",
    "\\sum_i g_i n_{i\\uparrow}n_{i\\downarrow}&=\\begin{pmatrix}\n",
    "-0.23 &-0.59 & -0.58 & -0.8 & -0.57 & -0.47 & 0.4 & -0.62\n",
    "\\end{pmatrix}\n",
    "\\begin{pmatrix}\n",
    "0 \\\\ 0 \\\\ 1 \\\\ 0 \\\\ 0 \\\\ 1 \\\\ 0 \\\\ 0\n",
    "\\end{pmatrix}\\\\\n",
    "&=-0.58 - 0.47=-1.05\n",
    "\\end{align}\n",
    "$$\n",
    "\n",
    "Pour après le _hopping_, les termes qui contribuent change, soit\n",
    "\n",
    "$$\n",
    "\\begin{align}\n",
    "\\sum_i g_i n_{i\\uparrow}n_{i\\downarrow}&=\\begin{pmatrix}\n",
    "-0.23 &-0.59 & -0.58 & -0.8 & -0.57 & -0.47 & 0.4 & -0.62\n",
    "\\end{pmatrix}\n",
    "\\begin{pmatrix}\n",
    "1 \\\\ 0 \\\\ 1 \\\\ 0 \\\\ 0 \\\\ 1 \\\\ 0 \\\\ 0\n",
    "\\end{pmatrix}\\\\\n",
    "&=-0.23-0.58 - 0.47=-1.28\n",
    "\\end{align}\n",
    "$$"
   ]
  },
  {
   "cell_type": "markdown",
   "id": "b108f533-cf0a-458a-9c84-d67dcb297211",
   "metadata": {},
   "source": [
    "### Calcul numérique"
   ]
  },
  {
   "cell_type": "code",
   "execution_count": 2,
   "id": "4b6949b0-fe9f-463c-b3dd-e912972b4318",
   "metadata": {},
   "outputs": [
    {
     "name": "stdout",
     "output_type": "stream",
     "text": [
      "-1.0499999999999998\n",
      "-1.2799999999999998\n"
     ]
    }
   ],
   "source": [
    "# Calcul pour la première configuration\n",
    "gutzwiller_parameters = [-0.23, -0.59, -0.58, -0.8, -0.57, -0.47, 0.4, -0.62]\n",
    "gutzwiller_coefficient = imp.gutzwiller_exponent(spin_up, spin_down, gutzwiller_parameters, NSITES)\n",
    "print(gutzwiller_coefficient)\n",
    "\n",
    "# Calcul après le hopping\n",
    "gutzwiller_coefficient = imp.gutzwiller_fastupdate(\n",
    "    gutzwiller_coefficient, gutzwiller_parameters, spin_up, spin_down, 1, 0, True\n",
    ")\n",
    "print(gutzwiller_coefficient)"
   ]
  },
  {
   "cell_type": "markdown",
   "id": "1a820d0c-34a6-4e30-95ac-4c36065ecbdd",
   "metadata": {},
   "source": [
    "![Gutzwiller](../target/criterion/Calcul%20du%20projecteur%20Gutzwiller/Calcul%20complet/report/lines.svg)\n",
    "![Gutzwiller](../target/criterion/Calcul%20du%20projecteur%20Gutzwiller/Fast%20update/report/lines.svg)"
   ]
  },
  {
   "cell_type": "markdown",
   "id": "394c32a6-b284-496d-bb97-263484236821",
   "metadata": {},
   "source": [
    "## Calcul du Projecteur Jastrow $P_{\\text{J}}$\n",
    "On utilise la définition du projecteur de Jastrow\n",
    "\n",
    "$$\n",
    "\\begin{align}\n",
    "P_{\\text{J}}&=e^{\\frac12 \\sum_{i\\neq j} v_{ij}(n_i-1)(n_j -1)}\\\\\n",
    "\\ln P_{\\text{J}}&=\\frac12 \\sum_{i\\neq j} v_{ij}(n_i-1)(n_j -1)\n",
    "\\end{align}\n",
    "$$\n",
    "où les $v_{ij}$ sont les paramètres variationnels, tandis que les opérateurs $n_i$ sont les opérateurs nombre d'occupation sans égars au spin. La matrice $\\mathbf{v}$ doit être symétrique, il s'agit d'un argument physique. Dans le code, aucune garantie n'est faite sur l'adressage de la matrice $\\mathbf{v}$, mais cela pourrait être une optimisation future, ayant pour but d'augmenter le nombre de valeurs participant à la somme dans le cache. La matrice $\\mathbf{v}$ est adressée plus souvent pour les éléments du triangle supérieur, mais ce n'est pas garanti.\n",
    "\n",
    "$$\n",
    "\\mathbf{v}=\\begin{pmatrix}\n",
    "0 & -0.7 & 0.28 & -0.42 & 0.31 & 0.63 & -0.33 & 1\\\\\n",
    "-0.7 & 0 & -0.11 & 0.38 & 0.06 & 0.44 & 0.93 & -0.32\\\\\n",
    "0.28 & -0.11 & 0 & -0.07 & 0.26 & 0.99 & 0 & -0.94\\\\\n",
    "-0.42 & 0.38 & -0.07 & 0 & -0.13 & 0.33 & -0.98 & 0.96\\\\\n",
    "0.31 & 0.06 & 0.26 & -0.13 & 0 & -0.92 & 0.65 & -0.58\\\\\n",
    "0.63 & 0.44 & 0.99 & 0.33 & -0.92 & 0 & 0.01 & -0.3 \\\\\n",
    "-0.33 & 0.93 & 0 & -0.98 & 0.65 & 0.01 & 0 & 0.08\\\\\n",
    "1 & -0.32 & -0.94 & 0.96 & -0.58 & -0.3 & 0.08 & 0\n",
    "\\end{pmatrix}\n",
    "$$\n",
    "\n",
    "La somme s'écrit comme le produit matriciel suivant, en utilisant le vecteur $\\zeta=n_\\uparrow+n_\\downarrow-\\mathbf{1}$,\n",
    "\n",
    "$$\n",
    "\\begin{align}\n",
    "n_{\\uparrow}=[01100101]\\\\\n",
    "n_{\\downarrow}=[10100100]\\\\\n",
    "\\zeta=[0,0,1,-1,-1,1,-1,0]\\\\\n",
    "\\frac12 \\sum_{i\\neq j} v_{ij}(n_i-1)(n_j -1)=\\\\\n",
    "\\frac12\\begin{pmatrix}\n",
    "0 & 0 & 1 & -1 & -1 & 1 & -1 & 0\n",
    "\\end{pmatrix}\n",
    "\\begin{pmatrix}\n",
    "0 & -0.7 & 0.28 & -0.42 & 0.31 & 0.63 & -0.33 & 1\\\\\n",
    "-0.7 & 0 & -0.11 & 0.38 & 0.06 & 0.44 & 0.93 & -0.32\\\\\n",
    "0.28 & -0.11 & 0 & -0.07 & 0.26 & 0.99 & 0 & -0.94\\\\\n",
    "-0.42 & 0.38 & -0.07 & 0 & -0.13 & 0.33 & -0.98 & 0.96\\\\\n",
    "0.31 & 0.06 & 0.26 & -0.13 & 0 & -0.92 & 0.65 & -0.58\\\\\n",
    "0.63 & 0.44 & 0.99 & 0.33 & -0.92 & 0 & 0.01 & -0.3 \\\\\n",
    "-0.33 & 0.93 & 0 & -0.98 & 0.65 & 0.01 & 0 & 0.08\\\\\n",
    "1 & -0.32 & -0.94 & 0.96 & -0.58 & -0.3 & 0.08 & 0\n",
    "\\end{pmatrix}\n",
    "\\begin{pmatrix}\n",
    "0 \\\\ 0 \\\\ 1 \\\\ -1 \\\\ -1 \\\\ 1 \\\\ -1 \\\\ 0\n",
    "\\end{pmatrix}\\\\\n",
    "=\\frac12\n",
    "\\begin{pmatrix}\n",
    "0 & 0 & 1 & -1 & -1 & 1 & -1 & 0\n",
    "\\end{pmatrix}\n",
    "\\begin{pmatrix}\\frac{27}{20}\\\\ \n",
    "-\\frac{26}{25}\\\\ \n",
    "\\frac{4}{5}\\\\ \n",
    "\\frac{137}{100}\\\\ \n",
    "-\\frac{59}{50}\\\\ \n",
    "\\frac{157}{100}\\\\ \n",
    "\\frac{17}{50}\\\\ \n",
    "-\\frac{17}{10} \\end{pmatrix}\\\\\n",
    "=0.92\n",
    "\\end{align}\n",
    "$$\n",
    "\n",
    "On peut faire la même chose pour après le hopping, avec $\\zeta=[1,-1,1,-1,-1,1,-1,0]$.\n",
    "$$\n",
    "\\begin{align}\n",
    "\\frac12 \\sum_{i\\neq j} v_{ij}(n_i-1)(n_j -1)=\\\\\n",
    "\\frac12\\begin{pmatrix}\n",
    "1 & -1 & 1 & -1 & -1 & 1 & -1 & 0\n",
    "\\end{pmatrix}\n",
    "\\begin{pmatrix}\n",
    "0 & -0.7 & 0.28 & -0.42 & 0.31 & 0.63 & -0.33 & 1\\\\\n",
    "-0.7 & 0 & -0.11 & 0.38 & 0.06 & 0.44 & 0.93 & -0.32\\\\\n",
    "0.28 & -0.11 & 0 & -0.07 & 0.26 & 0.99 & 0 & -0.94\\\\\n",
    "-0.42 & 0.38 & -0.07 & 0 & -0.13 & 0.33 & -0.98 & 0.96\\\\\n",
    "0.31 & 0.06 & 0.26 & -0.13 & 0 & -0.92 & 0.65 & -0.58\\\\\n",
    "0.63 & 0.44 & 0.99 & 0.33 & -0.92 & 0 & 0.01 & -0.3 \\\\\n",
    "-0.33 & 0.93 & 0 & -0.98 & 0.65 & 0.01 & 0 & 0.08\\\\\n",
    "1 & -0.32 & -0.94 & 0.96 & -0.58 & -0.3 & 0.08 & 0\n",
    "\\end{pmatrix}\n",
    "\\begin{pmatrix}\n",
    "1 \\\\ -1 \\\\ 1 \\\\ -1 \\\\ -1 \\\\ 1 \\\\ -1 \\\\ 0\n",
    "\\end{pmatrix}\\\\\n",
    "=\\frac12\n",
    "\\begin{pmatrix}\n",
    "1 & -1 & 1 & -1 & -1 & 1 & -1 & 0\n",
    "\\end{pmatrix}\n",
    "\\begin{pmatrix}\\frac{41}{20}\\\\ \n",
    "-\\frac{87}{50}\\\\ \n",
    "\\frac{119}{100}\\\\ \n",
    "\\frac{57}{100}\\\\ \n",
    "-\\frac{93}{100}\\\\ \n",
    "\\frac{44}{25}\\\\ \n",
    "-\\frac{23}{25}\\\\ \n",
    "-\\frac{19}{50} \\end{pmatrix}\\\\\n",
    "=4.01\n",
    "\\end{align}\n",
    "$$\n",
    "### Calcul numérique"
   ]
  },
  {
   "cell_type": "code",
   "execution_count": 3,
   "id": "9f10a8e4-fc65-428a-8e88-5b408eb7b161",
   "metadata": {},
   "outputs": [
    {
     "name": "stdout",
     "output_type": "stream",
     "text": [
      "0.92\n",
      "4.01\n"
     ]
    }
   ],
   "source": [
    "jastrow_parameters = [\n",
    "0 , -0.7 , 0.28 , -0.42 , 0.31 , 0.63 , -0.33 , 1,\n",
    "-0.7 , 0 , -0.11 , 0.38 , 0.06 , 0.44 , 0.93 , -0.32,\n",
    "0.28 , -0.11 , 0 , -0.07 , 0.26 , 0.99 , 0 , -0.94,\n",
    "-0.42 , 0.38 , -0.07 , 0 , -0.13 , 0.33 , -0.98 , 0.96,\n",
    "0.31 , 0.06 , 0.26 , -0.13 , 0 , -0.92 , 0.65 , -0.58,\n",
    "0.63 , 0.44 , 0.99 , 0.33 , -0.92 , 0 , 0.01 , -0.3,\n",
    "-0.33 , 0.93 , 0 , -0.98 , 0.65 , 0.01 , 0 , 0.08,\n",
    "1 , -0.32 , -0.94 , 0.96 , -0.58 , -0.3 , 0.08 , 0\n",
    "]\n",
    "jastrow_coef = imp.jastrow_exponent(spin_up, spin_down, jastrow_parameters, NSITES)\n",
    "print(jastrow_coef)\n",
    "\n",
    "jastrow_coef = imp.jastrow_fastupdate(\n",
    "    jastrow_coef,\n",
    "    jastrow_parameters,\n",
    "    spin_up,\n",
    "    spin_down,\n",
    "    new_spin_up,\n",
    "    spin_down,\n",
    "    NSITES,\n",
    "    1,\n",
    "    0\n",
    ")\n",
    "print(jastrow_coef)"
   ]
  },
  {
   "cell_type": "markdown",
   "id": "da689f6b-ca6d-48d1-a0c7-17964014f588",
   "metadata": {},
   "source": [
    "### Autres exemples avec différents nombre de sites\n",
    "#### 2 Sites\n",
    "$$\n",
    "\\begin{align}\n",
    "\\mathbf{v}&=\n",
    "\\begin{pmatrix}\n",
    "0 & 0.27 \\\\ 0.27 & 0\n",
    "\\end{pmatrix}\\\\\n",
    "n_\\uparrow&=[01]\\\\\n",
    "n_\\downarrow&=[01]\\\\\n",
    "\\zeta&=[-1,1]\\\\\n",
    "\\frac12\\zeta^T\\mathbf{v}\\zeta&=\\frac12\\begin{pmatrix}\n",
    "-1 & 1\n",
    "\\end{pmatrix}\\begin{pmatrix}\n",
    "0.27 \\\\ -0.27\n",
    "\\end{pmatrix}=-0.27\n",
    "\\end{align}\n",
    "$$\n",
    "Il est important que les bits significatifs soient alignés le plus à gauche en mémoire. Il s'agit d'un détail d'implémentation étant donné l'utilisation de fonctions primitives telles que `leading_zeros()` pour augmenter la rapidité de l'adressage de bit individuels. Pour les calculs précédents, les $8$ bits du format `u8` étaient significatifs, d'où le fait que nous n'avions pas besoin de prendre ceci en compte."
   ]
  },
  {
   "cell_type": "code",
   "execution_count": 4,
   "id": "ce3c67ef-0124-4b79-a1b0-7efbe408a92e",
   "metadata": {},
   "outputs": [
    {
     "name": "stdout",
     "output_type": "stream",
     "text": [
      "-0.27\n"
     ]
    }
   ],
   "source": [
    "params = [0 for i in range(64)]\n",
    "params[1] = 0.27\n",
    "params[2] = 0.27\n",
    "nsites = 2\n",
    "up = 1 << (8 - nsites)\n",
    "down = 1 << (8 - nsites)\n",
    "jastrow_coef = imp.jastrow_exponent(up, down, params, 2)\n",
    "print(jastrow_coef)"
   ]
  },
  {
   "cell_type": "markdown",
   "id": "bcc05687-6431-4960-a8bd-4f5593460bb5",
   "metadata": {},
   "source": [
    "#### 3 Sites\n",
    "$$\n",
    "\\begin{align}\n",
    "\\mathbf{v}&=\n",
    "\\begin{pmatrix}\n",
    "0 & 1 & 1 \\\\ 1 & 0 & 1 \\\\ 1 & 1 & 0\n",
    "\\end{pmatrix}\\\\\n",
    "n_\\uparrow&=[010]\\\\\n",
    "n_\\downarrow&=[010]\\\\\n",
    "\\zeta&=[-1,1,-1]\\\\\n",
    "\\frac12\\zeta^T\\mathbf{v}\\zeta&=\\frac12\\begin{pmatrix}\n",
    "-1 & 1 & -1\n",
    "\\end{pmatrix}\\begin{pmatrix}\n",
    "0 \\\\ -2 \\\\ 0\n",
    "\\end{pmatrix}=-1\n",
    "\\end{align}\n",
    "$$"
   ]
  },
  {
   "cell_type": "code",
   "execution_count": 5,
   "id": "b01c1e6d-273c-4a5f-9dc5-671cf3c855a1",
   "metadata": {},
   "outputs": [
    {
     "name": "stdout",
     "output_type": "stream",
     "text": [
      "-1.0\n"
     ]
    }
   ],
   "source": [
    "params = [0 for i in range(64)]\n",
    "params[1] = 1\n",
    "params[2] = 1\n",
    "params[3] = 1\n",
    "params[5] = 1\n",
    "params[6] = 1\n",
    "params[7] = 1\n",
    "nsites = 3\n",
    "up = 2 << (8 - nsites)\n",
    "down = 2 << (8 - nsites)\n",
    "jastrow_coef = imp.compute_jastrow_easy_to_follow(up, down, params, nsites)\n",
    "print(jastrow_coef)"
   ]
  },
  {
   "cell_type": "markdown",
   "id": "6bc30d83-252c-4b45-b527-95a69c91a6ea",
   "metadata": {},
   "source": [
    "## Calcul du Produit Scalaire $\\braket{x|\\phi_{\\text{Pfaff}}}$\n",
    "L'état pfaffian est défini tel que\n",
    "$$\n",
    "\\vert \\phi_{\\text{PF}}\\rangle=\n",
    "\\left[\n",
    "    \\sum_{i, j = 0}^{N_s-1}F_{r_ir_j}^{\\sigma_i\\sigma_j}c_{i\\sigma}^\\dagger c_{j\\sigma'}^\\dagger\n",
    "\\right]^{N_e /2} \\vert 0\\rangle\n",
    "$$\n",
    "Ce qui nous intéresse est $\\braket{x|\\phi_{\\text{PF}}}$. Cette valeur se calcule de la manière suivante:\n",
    "$$\n",
    "\\begin{align}\n",
    "\\langle x\\vert\\phi_{\\text{PF}}\\rangle&=\n",
    "\\left(\\frac{N_e}{2}\\right)!\\ \\text{Pf}(X)\\\\\n",
    "X_{ij}&=F_{r_ir_j}^{\\sigma_i\\sigma_j}-F_{r_jr_i}^{\\sigma_j\\sigma_i}\n",
    "\\end{align}\n",
    "$$\n",
    "#### Exemple à 3 sites\n",
    "Pour se simplifier la vie, on choisi $n_{\\uparrow}=[011]$ et $n_{\\downarrow}=[101]$. On choisi aussi les paramètres variationnels\n",
    "\n",
    "$$\n",
    "\\begin{align}\n",
    "&F^{\\uparrow\\uparrow}=\\begin{pmatrix}\n",
    "0.4 & 0.7 & 0.8 \\\\\n",
    "-1.0 & -0.3 & 0.4 \\\\\n",
    "-0.2 & 0.8 & 0.9\n",
    "\\end{pmatrix}\n",
    "&& F^{\\uparrow\\downarrow}=\\begin{pmatrix}\n",
    "0.4 & 0.1 & -0.1\\\\\n",
    "-0.2 & 0.3 & -0.3\\\\\n",
    "0.4 & -0.5 & 0.5\n",
    "\\end{pmatrix}\\\\\n",
    "&F^{\\downarrow\\uparrow}=\\begin{pmatrix}\n",
    "0.2 & 0.3 &-1.0\\\\\n",
    "0.8 & -0.4 & -0.5\\\\\n",
    "-0.1 & 0.6 & 0.7\n",
    "\\end{pmatrix}\n",
    "&& F^{\\downarrow\\downarrow}=\\begin{pmatrix}\n",
    "-1.0 & 0.8 & -0.9\\\\\n",
    "0.7 & 0.4 & 0.5\\\\\n",
    "-0.3 & -0.2 & 0.1\n",
    "\\end{pmatrix}\n",
    "\\end{align}\n",
    "$$\n",
    "La matrice $X$ est donc donnée par\n",
    "\n",
    "$$\n",
    "\\begin{align}\n",
    "X&=\\begin{pmatrix}\n",
    "0 & -0.4 & -0.5 & -0.9\\\\\n",
    "0.4 & 0 & 1.4 & -0.2\\\\\n",
    "0.5 & -1.4 & 0 & -0.6\\\\\n",
    "0.9 & 0.2 & 0.6 & 0\n",
    "\\end{pmatrix}\n",
    "\\end{align}\n",
    "$$\n",
    "On calcule ensuite la pfaffian de cette matrice:"
   ]
  },
  {
   "cell_type": "code",
   "execution_count": 6,
   "id": "0cfed77f-56dc-4d8e-9815-f0e4a5053acf",
   "metadata": {},
   "outputs": [
    {
     "data": {
      "text/plain": [
       "-1.12"
      ]
     },
     "execution_count": 6,
     "metadata": {},
     "output_type": "execute_result"
    }
   ],
   "source": [
    "from pfapack import pfaffian as pf\n",
    "import numpy as np\n",
    "X = np.array([\n",
    "    [0 , -0.4 , -0.5 , -0.9],\n",
    "    [0.4 , 0 , 1.4 , -0.2],\n",
    "    [0.5 , -1.4 , 0 , -0.6],\n",
    "    [0.9 , 0.2 , 0.6 , 0]\n",
    "])\n",
    "pf.pfaffian(X)"
   ]
  },
  {
   "cell_type": "markdown",
   "id": "604e068e-1809-4032-b7d0-b48617667b6f",
   "metadata": {},
   "source": [
    "Ce qui signifie que nous avons\n",
    "\n",
    "$$\n",
    "\\begin{align}\n",
    "\\braket{x|\\phi_{\\text{PF}}}&=\\left(\\frac{4}{2}\\right)!\\cdot-1.12\\\\\n",
    "&=-2.24\n",
    "\\end{align}\n",
    "$$\n",
    "\n",
    "On peut ensuite faire le hopping pour obtenir $n_{\\uparrow}=[101]$, ce qui nous donne maintenant la matrice\n",
    "\n",
    "$$\n",
    "\\begin{align}\n",
    "X&=\\begin{pmatrix}\n",
    "0 & 1.0 & -0.2 & 0\\\\\n",
    "-1.0 & 0 & 1.4 & -0.2\\\\\n",
    "0.2 & -1.4 & 0 & -0.6\\\\\n",
    "0 & 0.2 & 0.6 & 0\n",
    "\\end{pmatrix}\n",
    "\\end{align}\n",
    "$$"
   ]
  },
  {
   "cell_type": "code",
   "execution_count": 7,
   "id": "998b4380-40bf-4595-85cd-51e71c1dabd4",
   "metadata": {},
   "outputs": [
    {
     "data": {
      "text/plain": [
       "-0.5599999999999999"
      ]
     },
     "execution_count": 7,
     "metadata": {},
     "output_type": "execute_result"
    }
   ],
   "source": [
    "X = np.array([\n",
    "    [0 , 1.0 , 0.2 , 0],\n",
    "    [-1.0 , 0 , 1.4 , -0.2],\n",
    "    [-0.2 , -1.4 , 0 , -0.6],\n",
    "    [0 , 0.2 , 0.6 , 0]\n",
    "])\n",
    "pf.pfaffian(X)"
   ]
  },
  {
   "cell_type": "markdown",
   "id": "e6c46a44-a2cd-40ea-b7a9-5cbb3d247756",
   "metadata": {},
   "source": [
    "Ce qui signifie que nous avons\n",
    "\n",
    "$$\n",
    "\\begin{align}\n",
    "\\braket{x|\\phi_{\\text{PF}}}&=\\left(\\frac{4}{2}\\right)!\\cdot-0.56\\\\\n",
    "&=-1.12\n",
    "\\end{align}\n",
    "$$"
   ]
  },
  {
   "cell_type": "code",
   "execution_count": 8,
   "id": "7e857dc3-930b-4605-a8ef-853534c29a69",
   "metadata": {},
   "outputs": [
    {
     "name": "stdout",
     "output_type": "stream",
     "text": [
      "Fij: [0.0, 0.0, 0.0, 0.0, 0.0, 0.0, 0.0, 0.0, 0.0, 0.4, 0.1, -0.1, -0.2, 0.3, -0.3, 0.4, -0.5, 0.5, 0.2, 0.3, -1.0, 0.8, -0.4, -0.5, -0.1, 0.6, 0.7, 0.0, 0.0, 0.0, 0.0, 0.0, 0.0, 0.0, 0.0, 0.0]\n",
      "X: (0.1 - 0.8) at (2, 0), (-0.1 - -0.1) at (2, 1), \n",
      "(-0.5 - -0.5) at (3, 0), (0.5 - 0.7) at (3, 1), \n"
     ]
    },
    {
     "name": "stderr",
     "output_type": "stream",
     "text": [
      "thread '<unnamed>' panicked at 'explicit panic', src/pfaffian.rs:174:5\n",
      "note: run with `RUST_BACKTRACE=1` environment variable to display a backtrace\n"
     ]
    },
    {
     "ename": "PanicException",
     "evalue": "explicit panic",
     "output_type": "error",
     "traceback": [
      "\u001b[0;31m---------------------------------------------------------------------------\u001b[0m",
      "\u001b[0;31mPanicException\u001b[0m                            Traceback (most recent call last)",
      "Cell \u001b[0;32mIn[8], line 24\u001b[0m\n\u001b[1;32m     22\u001b[0m up \u001b[38;5;241m=\u001b[39m \u001b[38;5;241m3\u001b[39m \u001b[38;5;241m<<\u001b[39m (\u001b[38;5;241m8\u001b[39m \u001b[38;5;241m-\u001b[39m nsites)\n\u001b[1;32m     23\u001b[0m down \u001b[38;5;241m=\u001b[39m \u001b[38;5;241m5\u001b[39m \u001b[38;5;241m<<\u001b[39m (\u001b[38;5;241m8\u001b[39m \u001b[38;5;241m-\u001b[39m nsites)\n\u001b[0;32m---> 24\u001b[0m scal \u001b[38;5;241m=\u001b[39m \u001b[43mimp\u001b[49m\u001b[38;5;241;43m.\u001b[39;49m\u001b[43mcompute_internal_product_py\u001b[49m\u001b[43m(\u001b[49m\u001b[43mup\u001b[49m\u001b[43m,\u001b[49m\u001b[43m \u001b[49m\u001b[43mdown\u001b[49m\u001b[43m,\u001b[49m\u001b[43m \u001b[49m\u001b[43mfij\u001b[49m\u001b[43m,\u001b[49m\u001b[43m \u001b[49m\u001b[43mnsites\u001b[49m\u001b[43m)\u001b[49m\n\u001b[1;32m     25\u001b[0m \u001b[38;5;28mprint\u001b[39m(scal)\n\u001b[1;32m     27\u001b[0m up \u001b[38;5;241m=\u001b[39m \u001b[38;5;241m5\u001b[39m \u001b[38;5;241m<<\u001b[39m (\u001b[38;5;241m8\u001b[39m \u001b[38;5;241m-\u001b[39m nsites)\n",
      "\u001b[0;31mPanicException\u001b[0m: explicit panic"
     ]
    }
   ],
   "source": [
    "fij = [\n",
    "    #0.4 , 0.7 , 0.8 ,\n",
    "    #-1.0 , -0.3 , 0.4 ,\n",
    "    #-0.2 , 0.8 , 0.9 ,\n",
    "    0,0,0,\n",
    "    0,0,0,\n",
    "    0,0,0,\n",
    "0.4 , 0.1 , -0.1,\n",
    "    -0.2 , 0.3 , -0.3,\n",
    "    0.4 , -0.5 , 0.5 ,\n",
    "    0.2 , 0.3 ,-1.0,\n",
    "    0.8 , -0.4 , -0.5,\n",
    "    -0.1 , 0.6 , 0.7 ,\n",
    "    0,0,0,\n",
    "    0,0,0,\n",
    "    0,0,0,\n",
    "    #-1.0 , 0.8 , -0.9,\n",
    "    #0.7 , 0.4 , 0.5,\n",
    "    #-0.3 , -0.2 , 0.1\n",
    "]\n",
    "nsites = 3\n",
    "up = 3 << (8 - nsites)\n",
    "down = 5 << (8 - nsites)\n",
    "scal = imp.compute_internal_product_py(up, down, fij, nsites)\n",
    "print(scal)\n",
    "\n",
    "up = 5 << (8 - nsites)\n",
    "scal = imp.compute_internal_product_py(up, down, fij, nsites)\n",
    "print(scal)"
   ]
  },
  {
   "cell_type": "markdown",
   "id": "c88c21e9-30a4-4512-88ed-154c9d8498b5",
   "metadata": {},
   "source": [
    "## Calcul de la Densité $\\rho(x)$"
   ]
  },
  {
   "cell_type": "code",
   "execution_count": null,
   "id": "623f73ff-06fb-479e-8ad9-cc0849a6a177",
   "metadata": {},
   "outputs": [],
   "source": []
  },
  {
   "cell_type": "code",
   "execution_count": null,
   "id": "f72335a8-007d-4b27-b574-0f1d1ab9a21e",
   "metadata": {},
   "outputs": [],
   "source": []
  }
 ],
 "metadata": {
  "kernelspec": {
   "display_name": "Python 3 (ipykernel)",
   "language": "python",
   "name": "python3"
  },
  "language_info": {
   "codemirror_mode": {
    "name": "ipython",
    "version": 3
   },
   "file_extension": ".py",
   "mimetype": "text/x-python",
   "name": "python",
   "nbconvert_exporter": "python",
   "pygments_lexer": "ipython3",
   "version": "3.11.8"
  }
 },
 "nbformat": 4,
 "nbformat_minor": 5
}
